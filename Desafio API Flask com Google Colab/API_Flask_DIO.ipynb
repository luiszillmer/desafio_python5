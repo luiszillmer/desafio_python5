{
  "cells": [
    {
      "cell_type": "code",
      "execution_count": null,
      "metadata": {
        "id": "vaTkcXQ_igjc"
      },
      "outputs": [],
      "source": [
        "!pip install flask_ngrok\n",
        "!pip install flask "
      ]
    },
    {
      "cell_type": "code",
      "execution_count": 3,
      "metadata": {
        "id": "CS_uq48Li7o8"
      },
      "outputs": [],
      "source": [
        "import pandas as pd\n",
        "from flask_ngrok import run_with_ngrok\n",
        "from flask import (\n",
        "    request, jsonify, Flask\n",
        ")\n",
        "import random as rk"
      ]
    },
    {
      "cell_type": "code",
      "execution_count": 4,
      "metadata": {
        "id": "LjtKQEKHjXvF"
      },
      "outputs": [],
      "source": [
        "app = Flask(__name__)\n",
        "run_with_ngrok(app)"
      ]
    },
    {
      "cell_type": "code",
      "execution_count": 5,
      "metadata": {
        "id": "oV49N-hpjdlk"
      },
      "outputs": [],
      "source": [
        "json = [{\n",
        "    \"nome\": \"Miltom Hatoum\",\n",
        "    \"cpf\": \"123456\",\n",
        "    \"idade\": 50,\n",
        "    \"cidade\": \"Rio de Janeiro\",\n",
        "    \"estado\": \"RJ\"\n",
        "}, {\n",
        "    \"nome\": \"Clarice Lispector\",\n",
        "    \"cpf\": \"564231\",\n",
        "    \"idade\": 30,\n",
        "    \"cidade\": \"Belém\",\n",
        "    \"estado\": \"PA\"\n",
        "}, {\n",
        "    \"nome\": \"Jorge Amado\",\n",
        "    \"cpf\": \"654321\",\n",
        "    \"idade\": 61,\n",
        "    \"cidade\": \"Salvador\",\n",
        "    \"estado\": \"BA\"\n",
        "}, {\n",
        "    \"nome\": \"Aline Bei\",\n",
        "    \"cpf\": \"456342\",\n",
        "    \"idade\": 28,\n",
        "    \"cidade\": \"São Paulo\",\n",
        "    \"estado\": \"SP\"\n",
        "}]"
      ]
    },
    {
      "cell_type": "code",
      "execution_count": 14,
      "metadata": {
        "id": "5J961Qg8k0_9"
      },
      "outputs": [],
      "source": [
        "@app.route(\"/\")\n",
        "\n",
        "def index():\n",
        "    return \"<marquee><h3> TO CHECK IN PUT ADD '/input' TO THE URL AND TO CHECK OUT PUT ADD '/output' TO THE URL.</h3></marquee>\""
      ]
    },
    {
      "cell_type": "code",
      "execution_count": 17,
      "metadata": {
        "id": "u0lV8w9SltJ2"
      },
      "outputs": [],
      "source": [
        "@app.route(\"/input\")\n",
        "\n",
        "def input_json():\n",
        "  return jsonify(json)"
      ]
    },
    {
      "cell_type": "code",
      "execution_count": null,
      "metadata": {
        "id": "T48-HikymB4_"
      },
      "outputs": [],
      "source": [
        "@app.route('/output', methods=['GET','POST'])\n",
        "\n",
        "def pred_json():\n",
        " pred = rk.choice([\"positive\",\"negative\"])\n",
        " nd = json\n",
        " nd[\"prediction\"]=pred\n",
        " return jsonify(nd)"
      ]
    },
    {
      "cell_type": "code",
      "execution_count": null,
      "metadata": {
        "colab": {
          "base_uri": "https://localhost:8080/"
        },
        "id": "Y782FhCWngu-",
        "outputId": "3cd701a2-d73c-4caf-87e5-04c6caa2ca34"
      },
      "outputs": [
        {
          "name": "stdout",
          "output_type": "stream",
          "text": [
            " * Serving Flask app \"__main__\" (lazy loading)\n",
            " * Environment: production\n",
            "\u001b[31m   WARNING: This is a development server. Do not use it in a production deployment.\u001b[0m\n",
            "\u001b[2m   Use a production WSGI server instead.\u001b[0m\n",
            " * Debug mode: off\n"
          ]
        },
        {
          "name": "stderr",
          "output_type": "stream",
          "text": [
            "INFO:werkzeug: * Running on http://127.0.0.1:5000/ (Press CTRL+C to quit)\n"
          ]
        },
        {
          "name": "stdout",
          "output_type": "stream",
          "text": [
            " * Running on http://f5b0-35-245-193-228.ngrok.io\n",
            " * Traffic stats available on http://127.0.0.1:4040\n"
          ]
        },
        {
          "name": "stderr",
          "output_type": "stream",
          "text": [
            "INFO:werkzeug:127.0.0.1 - - [26/Oct/2022 23:26:20] \"\u001b[37mGET /input HTTP/1.1\u001b[0m\" 200 -\n",
            "INFO:werkzeug:127.0.0.1 - - [26/Oct/2022 23:26:20] \"\u001b[33mGET /favicon.ico HTTP/1.1\u001b[0m\" 404 -\n",
            "ERROR:__main__:Exception on /output [GET]\n",
            "Traceback (most recent call last):\n",
            "  File \"/usr/local/lib/python3.7/dist-packages/flask/app.py\", line 2447, in wsgi_app\n",
            "    response = self.full_dispatch_request()\n",
            "  File \"/usr/local/lib/python3.7/dist-packages/flask/app.py\", line 1952, in full_dispatch_request\n",
            "    rv = self.handle_user_exception(e)\n",
            "  File \"/usr/local/lib/python3.7/dist-packages/flask/app.py\", line 1821, in handle_user_exception\n",
            "    reraise(exc_type, exc_value, tb)\n",
            "  File \"/usr/local/lib/python3.7/dist-packages/flask/_compat.py\", line 39, in reraise\n",
            "    raise value\n",
            "  File \"/usr/local/lib/python3.7/dist-packages/flask/app.py\", line 1950, in full_dispatch_request\n",
            "    rv = self.dispatch_request()\n",
            "  File \"/usr/local/lib/python3.7/dist-packages/flask/app.py\", line 1936, in dispatch_request\n",
            "    return self.view_functions[rule.endpoint](**req.view_args)\n",
            "  File \"<ipython-input-10-d910439dd91b>\", line 6, in predJson\n",
            "    nd[\"prediction\"]=pred\n",
            "TypeError: list indices must be integers or slices, not str\n",
            "INFO:werkzeug:127.0.0.1 - - [26/Oct/2022 23:26:25] \"\u001b[35m\u001b[1mGET /output HTTP/1.1\u001b[0m\" 500 -\n",
            "INFO:werkzeug:127.0.0.1 - - [26/Oct/2022 23:26:25] \"\u001b[33mGET /favicon.ico HTTP/1.1\u001b[0m\" 404 -\n",
            "INFO:werkzeug:127.0.0.1 - - [26/Oct/2022 23:27:11] \"\u001b[37mGET / HTTP/1.1\u001b[0m\" 200 -\n",
            "INFO:werkzeug:127.0.0.1 - - [26/Oct/2022 23:27:11] \"\u001b[33mGET /favicon.ico HTTP/1.1\u001b[0m\" 404 -\n"
          ]
        }
      ],
      "source": [
        "app.run()"
      ]
    }
  ],
  "metadata": {
    "colab": {
      "provenance": []
    },
    "kernelspec": {
      "display_name": "Python 3.10.8 64-bit (microsoft store)",
      "language": "python",
      "name": "python3"
    },
    "language_info": {
      "name": "python",
      "version": "3.10.8"
    },
    "vscode": {
      "interpreter": {
        "hash": "6ed0eda7d075e1f39d97956a04b30b3d8810a3670f1b5ea4d85222d58a842900"
      }
    }
  },
  "nbformat": 4,
  "nbformat_minor": 0
}
